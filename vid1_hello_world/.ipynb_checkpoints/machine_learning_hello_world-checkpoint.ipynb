{
 "cells": [
  {
   "cell_type": "markdown",
   "metadata": {},
   "source": [
    "1. Think of a Classifier as a box/container of rules.\n",
    "* There are many types of classifier, but the input and output type is always the same.\n",
    "    * e.g. input = features (shape, size, color)\n",
    "    * e.g. output = target/response (apple, orange)\n",
    "* The classifier you'll start with is Decision Tree.\n",
    "\n",
    "* Test"
   ]
  },
  {
   "cell_type": "code",
   "execution_count": 1,
   "metadata": {},
   "outputs": [],
   "source": [
    "# import the tree\n",
    "from sklearn import tree\n",
    "\n",
    "# features are inputs to classifer: features contains the first two columns\n",
    "features = [[140,\"smooth\"], [130,\"smooth\"], [150,\"bumpy\"], [170,\"bumpy\"]]\n",
    "\n",
    "# labels are outputs to classifer: contains the last column\n",
    "labels = [\"apple\", \"apple\", \"orange\", \"orange\"]"
   ]
  },
  {
   "cell_type": "code",
   "execution_count": 2,
   "metadata": {},
   "outputs": [],
   "source": [
    "# replace the strings with int values\n",
    "# these will be the examples that are used to train your classifier\n",
    "\n",
    "# bumpy = 0\n",
    "# smooth = 1\n",
    "features = [[140,1], [130,1], [150,0], [170,0]]\n",
    "\n",
    "# apple = 0\n",
    "# orange = 1\n",
    "labels = [0,0,1,1]"
   ]
  },
  {
   "cell_type": "code",
   "execution_count": 3,
   "metadata": {},
   "outputs": [],
   "source": [
    "# create the classifier\n",
    "# at this point it's just an empty box of rule\n",
    "clf = tree.DecisionTreeClassifier()\n"
   ]
  },
  {
   "cell_type": "code",
   "execution_count": 4,
   "metadata": {},
   "outputs": [
    {
     "data": {
      "text/plain": [
       "DecisionTreeClassifier(class_weight=None, criterion='gini', max_depth=None,\n",
       "            max_features=None, max_leaf_nodes=None,\n",
       "            min_impurity_decrease=0.0, min_impurity_split=None,\n",
       "            min_samples_leaf=1, min_samples_split=2,\n",
       "            min_weight_fraction_leaf=0.0, presort=False, random_state=None,\n",
       "            splitter='best')"
      ]
     },
     "execution_count": 4,
     "metadata": {},
     "output_type": "execute_result"
    }
   ],
   "source": [
    "# your classifier doesn't know anything about apples & oranges yet\n",
    "# to train it you'll need a learning algorithm\n",
    "# if a classifier is a box of rules then the learning algorithm is the procedure that creates the rules\n",
    "# it does this by finding patterns in your training data\n",
    "# e.g. oranges tend to weigh more, so it creates a rule that says the heavier a fruit is the more likely it is to be an orange\n",
    "# in scikit the training algorithm is called \"fit\", and it's included in the classifier object\n",
    "# think of fit as a synonym for \"find patterns in data\"\n",
    "clf.fit(features, labels)\n",
    "\n"
   ]
  },
  {
   "cell_type": "code",
   "execution_count": 5,
   "metadata": {},
   "outputs": [
    {
     "name": "stdout",
     "output_type": "stream",
     "text": [
      "[1]\n"
     ]
    }
   ],
   "source": [
    "# let's take classifier for a spin\n",
    "# use it to classify a new fruit\n",
    "# the input for the new classifier is the features of the new example\n",
    "# features for the new example are 150gm and \"bumpy\"\n",
    "# the output will be 0 if apple, and 1 if orange\n",
    "print(clf.predict([[150,0]]))"
   ]
  },
  {
   "cell_type": "markdown",
   "metadata": {},
   "source": [
    "You can create a new classifier for a new problem by changing the training data. Which makes this approach more reusable, rather than creating new rules for each problem."
   ]
  },
  {
   "cell_type": "code",
   "execution_count": 6,
   "metadata": {},
   "outputs": [
    {
     "name": "stdout",
     "output_type": "stream",
     "text": [
      "Fruit Prediction: orange\n"
     ]
    }
   ],
   "source": [
    "# cleaning up the response\n",
    "# def fruitResponse(fruit):\n",
    "#     if fruit == 0:\n",
    "\n",
    "prediction = clf.predict([[150,0]])\n",
    "fruits = ['apple', 'orange']\n",
    "print(\"Fruit Prediction: {}\".format(fruits[prediction[0]]))"
   ]
  },
  {
   "cell_type": "code",
   "execution_count": null,
   "metadata": {},
   "outputs": [],
   "source": []
  }
 ],
 "metadata": {
  "kernelspec": {
   "display_name": "Python 3",
   "language": "python",
   "name": "python3"
  },
  "language_info": {
   "codemirror_mode": {
    "name": "ipython",
    "version": 3
   },
   "file_extension": ".py",
   "mimetype": "text/x-python",
   "name": "python",
   "nbconvert_exporter": "python",
   "pygments_lexer": "ipython3",
   "version": "3.7.2"
  },
  "toc": {
   "base_numbering": 1,
   "nav_menu": {},
   "number_sections": true,
   "sideBar": true,
   "skip_h1_title": false,
   "title_cell": "Table of Contents",
   "title_sidebar": "Contents",
   "toc_cell": false,
   "toc_position": {},
   "toc_section_display": true,
   "toc_window_display": false
  }
 },
 "nbformat": 4,
 "nbformat_minor": 2
}
