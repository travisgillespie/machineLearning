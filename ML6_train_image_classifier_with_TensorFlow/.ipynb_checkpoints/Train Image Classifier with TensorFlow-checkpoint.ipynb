{
 "cells": [
  {
   "cell_type": "markdown",
   "metadata": {},
   "source": [
    "Say you want to build a classifier that can tell the difference between a picture of T-Rex and a triceratops.\n",
    "![]()\n",
    "\n",
    "Or a painting as being a Monet or a Picasso.\n",
    "![]()\n",
    "\n",
    "To do this I'm going to work with a codelab called [TensorFlow for Poets](https://codelabs.developers.google.com/codelabs/tensorflow-for-poets/#0). This is a great way to start learning about and workiing with image classification.\n",
    "* This code lab is high level: to train the classifier I'll basiclly need to run a couple of scripts.\n",
    "* Powerful classifier: although the code lab is high level, but it's impresseive what the classifier can create. It's better than what a google-developer could have written just a couple of years ago."
   ]
  },
  {
   "cell_type": "markdown",
   "metadata": {},
   "source": [
    "To train an image classifier with _TensorFlow for Poets_, I'll only need to provide one thing:\n",
    "* Training data\n",
    "\n",
    "In this case, it's just directories full of images. My plan is to create a classifier to tell the difference between five types of flowers: \n",
    "1. Daisy\n",
    "* Dandelion\n",
    "* Roses\n",
    "* Sunflowers\n",
    "* Tulips\n",
    "\n",
    "And here's what the training data looks like. Notice there are five directories; one for each type of flower.\n",
    "![]()"
   ]
  },
  {
   "cell_type": "code",
   "execution_count": null,
   "metadata": {},
   "outputs": [],
   "source": []
  },
  {
   "cell_type": "markdown",
   "metadata": {},
   "source": [
    "# Resource"
   ]
  },
  {
   "cell_type": "markdown",
   "metadata": {},
   "source": [
    "* [TensorFlow for Poets](https://codelabs.developers.google.com/codelabs/tensorflow-for-poets/#0)\n",
    "* [Train Image Classifier with TensorFlow](https://www.youtube.com/watch?v=cSKfRcEDGUs&index=6&list=PLOU2XLYxmsIIuiBfYad6rFYQU_jL2ryal)\n",
    "* [tensorflow playground](http://playground.tensorflow.org/#activation=tanh&batchSize=10&dataset=circle&regDataset=reg-plane&learningRate=0.03&regularizationRate=0&noise=0&networkShape=4,2&seed=0.83261&showTestData=false&discretize=false&percTrainData=50&x=true&y=true&xTimesY=false&xSquared=false&ySquared=false&cosX=false&sinX=false&cosY=false&sinY=false&collectStats=false&problem=classification&initZero=false&hideText=false)"
   ]
  },
  {
   "cell_type": "markdown",
   "metadata": {},
   "source": [
    "![]()\n",
    "_TensorFlow for Poets_"
   ]
  }
 ],
 "metadata": {
  "kernelspec": {
   "display_name": "Python 3",
   "language": "python",
   "name": "python3"
  },
  "language_info": {
   "codemirror_mode": {
    "name": "ipython",
    "version": 3
   },
   "file_extension": ".py",
   "mimetype": "text/x-python",
   "name": "python",
   "nbconvert_exporter": "python",
   "pygments_lexer": "ipython3",
   "version": "3.7.2"
  },
  "toc": {
   "base_numbering": 1,
   "nav_menu": {},
   "number_sections": true,
   "sideBar": true,
   "skip_h1_title": false,
   "title_cell": "Table of Contents",
   "title_sidebar": "Contents",
   "toc_cell": false,
   "toc_position": {},
   "toc_section_display": true,
   "toc_window_display": false
  }
 },
 "nbformat": 4,
 "nbformat_minor": 2
}
