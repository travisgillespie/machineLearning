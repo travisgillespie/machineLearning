{
 "cells": [
  {
   "cell_type": "code",
   "execution_count": 1,
   "metadata": {},
   "outputs": [],
   "source": [
    "import pandas as pd"
   ]
  },
  {
   "cell_type": "markdown",
   "metadata": {},
   "source": [
    "Say you want to build a classifier that can tell the difference between a picture of T-Rex and a triceratops.\n",
    "![dinosuars](./assets/dinosaur.png)\n",
    "\n",
    "Or a painting as being a Monet or a Picasso.\n",
    "![paintins](./assets/art.png)\n",
    "\n",
    "To do this I'm going to work with a codelab called [TensorFlow for Poets](https://codelabs.developers.google.com/codelabs/tensorflow-for-poets/#0). This is a great way to start learning about and workiing with image classification.\n",
    "* This code lab is high level: to train the classifier I'll basiclly need to run a couple of scripts.\n",
    "* Powerful classifier: although the code lab is high level, but it's impresseive what the classifier can create. It's better than what a google-developer could have written just a couple of years ago."
   ]
  },
  {
   "cell_type": "markdown",
   "metadata": {},
   "source": [
    "To train an image classifier with _TensorFlow for Poets_, I'll only need to provide one thing:\n",
    "* Training data\n",
    "\n",
    "In this case, it's just directories full of images. My plan is to create a classifier to tell the difference between five types of flowers: \n",
    "1. Daisy\n",
    "* Dandelion\n",
    "* Roses\n",
    "* Sunflowers\n",
    "* Tulips\n",
    "\n",
    "And here's what the training data looks like. Notice there are five directories; one for each type of flower. If you want to use your own images, say, for dinosaurs, or paintings, all you need to do is create a directory and fill it with images. Each directory needs about 100 images to start.\n",
    "![flower directory](./assets/directory.png)"
   ]
  },
  {
   "cell_type": "markdown",
   "metadata": {},
   "source": [
    "From my Mac, I opened the termial, navigated the project directory and ran the following code:\n",
    "```unix\n",
    "curl http://download.tensorflow.org/example_images/flower_photos.tgz | tar xz\n",
    "```"
   ]
  },
  {
   "cell_type": "markdown",
   "metadata": {},
   "source": [
    "Now that I have the tarining data, the next thing I need to do is train my classifier. For this, I'll use TensorFlow. TensorFlow is an open source machine learning library, and is especially useful for workind with the branch of machine learning called deep learning.\n",
    "\n",
    "Deep learning has lead to great results in the last couple years. Especially in domains like image classification (which is what I'll be working with today). Here's one reason why: \n",
    "* Recall: In the firstmodule I discussed the difference between apples and oranges. It's impossible to do this by hand because there is too much variation in the world. But, I now know that classififires take featurs as input; and with images it's incredibly hard to extract useful features by hand. For example: you wouldn't want to detect the texture of a piece of fruit. To get aroudn this, I will use deep learning, because it has a major advantage when working with images, and it's this. You don't need to extract features manually. Instead, you can use the raw pixels of the image's features, and the classifier will do the rest. \n",
    "![raw pixels](./assets/rawPixels.png)"
   ]
  },
  {
   "cell_type": "markdown",
   "metadata": {},
   "source": [
    "To see the difference in the training data, let's compare the Iris data set with the directories of images. In Iris, each column is a feature that describest the flower. You can imagine I came up with these features manually, say, by measuring the flower with a ruler.\n",
    "![raw pixels](./assets/iris.png)"
   ]
  },
  {
   "cell_type": "markdown",
   "metadata": {},
   "source": [
    "Now by contrast, here's the training data in TensorFlow for Poets. It's just a list of labeled images."
   ]
  },
  {
   "cell_type": "code",
   "execution_count": 2,
   "metadata": {},
   "outputs": [
    {
     "data": {
      "text/html": [
       "<div>\n",
       "<style scoped>\n",
       "    .dataframe tbody tr th:only-of-type {\n",
       "        vertical-align: middle;\n",
       "    }\n",
       "\n",
       "    .dataframe tbody tr th {\n",
       "        vertical-align: top;\n",
       "    }\n",
       "\n",
       "    .dataframe thead th {\n",
       "        text-align: right;\n",
       "    }\n",
       "</style>\n",
       "<table border=\"1\" class=\"dataframe\">\n",
       "  <thead>\n",
       "    <tr style=\"text-align: right;\">\n",
       "      <th></th>\n",
       "      <th>File Name</th>\n",
       "      <th>Label</th>\n",
       "    </tr>\n",
       "  </thead>\n",
       "  <tbody>\n",
       "    <tr>\n",
       "      <th>0</th>\n",
       "      <td>rose.png</td>\n",
       "      <td>Rose</td>\n",
       "    </tr>\n",
       "    <tr>\n",
       "      <th>1</th>\n",
       "      <td>tulipgarden.jpg</td>\n",
       "      <td>Tulip</td>\n",
       "    </tr>\n",
       "    <tr>\n",
       "      <th>2</th>\n",
       "      <td>flowerfield.png</td>\n",
       "      <td>Sunflower</td>\n",
       "    </tr>\n",
       "    <tr>\n",
       "      <th>3</th>\n",
       "      <td>whiteflower.jpg</td>\n",
       "      <td>Daisy</td>\n",
       "    </tr>\n",
       "    <tr>\n",
       "      <th>4</th>\n",
       "      <td>...</td>\n",
       "      <td>...</td>\n",
       "    </tr>\n",
       "  </tbody>\n",
       "</table>\n",
       "</div>"
      ],
      "text/plain": [
       "         File Name      Label\n",
       "0         rose.png       Rose\n",
       "1  tulipgarden.jpg      Tulip\n",
       "2  flowerfield.png  Sunflower\n",
       "3  whiteflower.jpg      Daisy\n",
       "4              ...        ..."
      ]
     },
     "execution_count": 2,
     "metadata": {},
     "output_type": "execute_result"
    }
   ],
   "source": [
    "pd.DataFrame({\"File Name\":[\"rose.png\",\"tulipgarden.jpg\",\"flowerfield.png\",\"whiteflower.jpg\",\"...\"],\n",
    "              \"Label\":[\"Rose\",\"Tulip\",\"Sunflower\",\"Daisy\",\"...\"]})\n"
   ]
  },
  {
   "cell_type": "markdown",
   "metadata": {},
   "source": [
    "Again, a classifier is just a fucntion:\n",
    "```python\n",
    "f(x) = y\n",
    "```"
   ]
  },
  {
   "cell_type": "markdown",
   "metadata": {},
   "source": [
    "Here, _x_ is a 2D array of pixels from the image, and _y_ is a label like rose. Now when talking about deep learning, the classifier we'll be using is called a neural network. \n",
    "![neural network](./assets/neuralNetwork.png)"
   ]
  },
  {
   "cell_type": "markdown",
   "metadata": {},
   "source": [
    "At a high level, a neuarl network is just antoher type of classifier, like the nearest neighbor I classifier I wrote in the previous module. The difference is a neural network can learn more complex functions.  In this code labe, TensorFlow for poests takes care of setting up and training the neural network behind the scenes. This doesn't mean TensorFlow code is any harder to write than what I've worked with so far. In fact, *[TF Learn](http://tflearn.org/)* is a high level machine learning library on top of TensorFlow, and the syntax is similar to scikit-learn that has been shown so far.\n",
    "\n",
    "For example here's a code snippet that shows you how to import a neural network, train it, and use it to classify data."
   ]
  },
  {
   "cell_type": "code",
   "execution_count": 29,
   "metadata": {},
   "outputs": [],
   "source": [
    "# this code cell is just hear for example \n",
    "# to show how simple it is to use tensorflow\n",
    "\n",
    "from sklearn import metrics, cross_validation\n",
    "from sklearn.model_selection import train_test_split\n",
    "import tensorflow as tf\n",
    "from tensorflow.contrib import learn\n",
    "\n",
    "def main():\n",
    "    iris = learn.datasets.load_dataset('iris')\n",
    "    X_train, X_test, y_train, y_test = cross_validation.train_test_split(iris.data, iris.target, test_size=0.2, random_state=42)\n",
    "\n",
    "    feature_columns = [tf.contrib.layers.real_valued_column(\"\", dimension=4)]\n",
    "\n",
    "    # Build 3 layer DNN with 10, 20, 10 units respectively.\n",
    "    classifier = learn.DNNClassifier(hidden_units=[10,20,10], n_classes=3, feature_columns=feature_columns)\n",
    "\n",
    "    # # Fit and predict.\n",
    "    classifier.fit(X_train, y_train, steps=200)\n",
    "    score = metrics.accuracy_score(y_test, classifier.predict(X_test))\n",
    "    print('Accuracy: {0:f}'.format(score))\n"
   ]
  },
  {
   "cell_type": "markdown",
   "metadata": {},
   "source": []
  },
  {
   "cell_type": "markdown",
   "metadata": {},
   "source": []
  },
  {
   "cell_type": "markdown",
   "metadata": {},
   "source": []
  },
  {
   "cell_type": "markdown",
   "metadata": {},
   "source": []
  },
  {
   "cell_type": "markdown",
   "metadata": {},
   "source": []
  },
  {
   "cell_type": "markdown",
   "metadata": {},
   "source": [
    "# Resource"
   ]
  },
  {
   "cell_type": "markdown",
   "metadata": {},
   "source": [
    "* [TensorFlow for Poets](https://codelabs.developers.google.com/codelabs/tensorflow-for-poets/#0)\n",
    "* [TF Learn](http://tflearn.org/)\n",
    "* [download flowers (*i.e. training images*)]()\n",
    "* [Train Image Classifier with TensorFlow](https://www.youtube.com/watch?v=cSKfRcEDGUs&index=6&list=PLOU2XLYxmsIIuiBfYad6rFYQU_jL2ryal)\n",
    "* [tensorflow playground](http://playground.tensorflow.org/#activation=tanh&batchSize=10&dataset=circle&regDataset=reg-plane&learningRate=0.03&regularizationRate=0&noise=0&networkShape=4,2&seed=0.83261&showTestData=false&discretize=false&percTrainData=50&x=true&y=true&xTimesY=false&xSquared=false&ySquared=false&cosX=false&sinX=false&cosY=false&sinY=false&collectStats=false&problem=classification&initZero=false&hideText=false)"
   ]
  },
  {
   "cell_type": "markdown",
   "metadata": {},
   "source": [
    "![](./assets/.png)\n",
    "_TensorFlow for Poets_"
   ]
  }
 ],
 "metadata": {
  "kernelspec": {
   "display_name": "Python 3",
   "language": "python",
   "name": "python3"
  },
  "language_info": {
   "codemirror_mode": {
    "name": "ipython",
    "version": 3
   },
   "file_extension": ".py",
   "mimetype": "text/x-python",
   "name": "python",
   "nbconvert_exporter": "python",
   "pygments_lexer": "ipython3",
   "version": "3.7.2"
  },
  "toc": {
   "base_numbering": 1,
   "nav_menu": {},
   "number_sections": true,
   "sideBar": true,
   "skip_h1_title": false,
   "title_cell": "Table of Contents",
   "title_sidebar": "Contents",
   "toc_cell": false,
   "toc_position": {},
   "toc_section_display": true,
   "toc_window_display": false
  }
 },
 "nbformat": 4,
 "nbformat_minor": 2
}
