{
 "cells": [
  {
   "cell_type": "code",
   "execution_count": 1,
   "metadata": {},
   "outputs": [],
   "source": [
    "import pandas as pd\n",
    "import numpy as np\n",
    "import matplotlib.pyplot as plt"
   ]
  },
  {
   "cell_type": "markdown",
   "metadata": {},
   "source": [
    "Your classifiers are only as good as the features you provide them. Remember to think of a classifier as a box that contains a set of rules. Although there are many types of classifier, the input and output type is always the same.\n",
    "* e.g. input = features (shape, size, color)\n",
    "* e.g. output = target/response (apple, orange)\n",
    "\n",
    "This means that coming up with good features is one of the most important jobs in machine learning. So... \n",
    "* what makes a good feature?\n",
    "* and how can you tell?\n",
    "\n",
    "If you're working with binary classification, then a good feature makes it easy to decide beteween two different things.\n"
   ]
  },
  {
   "cell_type": "code",
   "execution_count": 2,
   "metadata": {},
   "outputs": [
    {
     "data": {
      "text/html": [
       "<div>\n",
       "<style scoped>\n",
       "    .dataframe tbody tr th:only-of-type {\n",
       "        vertical-align: middle;\n",
       "    }\n",
       "\n",
       "    .dataframe tbody tr th {\n",
       "        vertical-align: top;\n",
       "    }\n",
       "\n",
       "    .dataframe thead th {\n",
       "        text-align: right;\n",
       "    }\n",
       "</style>\n",
       "<table border=\"1\" class=\"dataframe\">\n",
       "  <thead>\n",
       "    <tr style=\"text-align: right;\">\n",
       "      <th></th>\n",
       "      <th>Weight</th>\n",
       "      <th>Texture</th>\n",
       "      <th>Label</th>\n",
       "    </tr>\n",
       "  </thead>\n",
       "  <tbody>\n",
       "    <tr>\n",
       "      <th>0</th>\n",
       "      <td>150g</td>\n",
       "      <td>Bumpy</td>\n",
       "      <td>Orange</td>\n",
       "    </tr>\n",
       "    <tr>\n",
       "      <th>1</th>\n",
       "      <td>170g</td>\n",
       "      <td>Bumpy</td>\n",
       "      <td>Orange</td>\n",
       "    </tr>\n",
       "    <tr>\n",
       "      <th>2</th>\n",
       "      <td>140g</td>\n",
       "      <td>Smooth</td>\n",
       "      <td>Apple</td>\n",
       "    </tr>\n",
       "    <tr>\n",
       "      <th>3</th>\n",
       "      <td>130g</td>\n",
       "      <td>Smooth</td>\n",
       "      <td>Apple</td>\n",
       "    </tr>\n",
       "    <tr>\n",
       "      <th>4</th>\n",
       "      <td>...</td>\n",
       "      <td>...</td>\n",
       "      <td>...</td>\n",
       "    </tr>\n",
       "  </tbody>\n",
       "</table>\n",
       "</div>"
      ],
      "text/plain": [
       "  Weight Texture   Label\n",
       "0   150g   Bumpy  Orange\n",
       "1   170g   Bumpy  Orange\n",
       "2   140g  Smooth   Apple\n",
       "3   130g  Smooth   Apple\n",
       "4    ...     ...     ..."
      ]
     },
     "execution_count": 2,
     "metadata": {},
     "output_type": "execute_result"
    }
   ],
   "source": [
    "# Example Training Data\n",
    "pd.DataFrame({'Weight':['150g','170g','140g','130g','...'],\n",
    "              'Texture':['Bumpy','Bumpy','Smooth','Smooth','...'],'Label':['Orange','Orange','Apple','Apple','...']\n",
    "             })\n"
   ]
  },
  {
   "cell_type": "markdown",
   "metadata": {},
   "source": [
    "# Example 1"
   ]
  },
  {
   "cell_type": "markdown",
   "metadata": {},
   "source": [
    "Imagine you want to write a classifier that can tell the difference between two different types of dogs.\n",
    "![dog types](./assets/dogTypes.png)\n"
   ]
  },
  {
   "cell_type": "markdown",
   "metadata": {},
   "source": [
    "You decide to use two features:\n",
    "* Height (inches)\n",
    "* Eye Color\n",
    "\n",
    "![dog features](./assets/dogFeatures.png)"
   ]
  },
  {
   "cell_type": "markdown",
   "metadata": {},
   "source": [
    "To keep things simple; let's start with a couple of assumptions.\n",
    "* Greyhounds are usually taller than labradors.\n",
    "* Eye color doesn't depend on dog breed.\n",
    "\n",
    "This means that one of the features is useful while the other tells you nothing. To understand why, I'll create a toy dataset to visualize this.\n",
    "\n",
    "Starting with height. How useful do you think this feature is? On average, greyhounds tend to be taller than labardors, but not always. There's a lot of variation in the world, so when you think about a feature,  you have to consider how it looks for different values in a population.\n",
    "\n",
    "![dog variation](./assets/dogVariation.png)"
   ]
  },
  {
   "cell_type": "code",
   "execution_count": 3,
   "metadata": {},
   "outputs": [],
   "source": [
    "# create a population of 1000 dogs\n",
    "# 50/50... greyhound/labrador\n",
    "\n",
    "greyhounds = 500\n",
    "labs = 500"
   ]
  },
  {
   "cell_type": "code",
   "execution_count": 4,
   "metadata": {},
   "outputs": [],
   "source": [
    "# give each of them a height \n",
    "# say on average greyhounds are 28 inches tall, and labaradors are 24in\n",
    "# although every dog's height is a little bit different... \n",
    "# let's make the height normally distributed ±4inches\n",
    "grey_height = 28 + 4 * np.random.randn(greyhounds)\n",
    "lab_height = 24 + 4 * np.random.randn(labs)\n"
   ]
  },
  {
   "cell_type": "code",
   "execution_count": 5,
   "metadata": {},
   "outputs": [
    {
     "name": "stdout",
     "output_type": "stream",
     "text": [
      "[19.60117991 33.33747669 32.2921044  29.8189805 ]\n",
      "[27.45786901 26.85245697 17.63638833 22.86193792]\n"
     ]
    }
   ],
   "source": [
    "# the code above provides two arrays of numbers\n",
    "# printing the first 4 numbers in each array\n",
    "print(grey_height[:4])\n",
    "print(lab_height[:4])"
   ]
  },
  {
   "cell_type": "code",
   "execution_count": 6,
   "metadata": {},
   "outputs": [
    {
     "data": {
      "image/png": "[encoded data removed]",
      "text/plain": [
       "<Figure size 432x288 with 1 Axes>"
      ]
     },
     "metadata": {
      "needs_background": "light"
     },
     "output_type": "display_data"
    }
   ],
   "source": [
    "# these arrays can be visualized in a histogram\n",
    "# adding a parameter so greyhounds are red and labs are blue\n",
    "plt.hist([grey_height,lab_height],\n",
    "         stacked=True,\n",
    "         color=['r','b'],\n",
    "         rwidth=0.9 # adding some space b/w bars\n",
    "        )\n",
    "plt.show()\n"
   ]
  },
  {
   "cell_type": "markdown",
   "metadata": {},
   "source": [
    "This shows how many dogs in the population has a given height. Let's parse this information.\n",
    "\n",
    "* Dogs that are 20 inches tall (far left of distribution). If I were try and predict if a dog at this height is a lab or greyhouhd, what would I do?\n",
    "    * I could figure out the probability of each type of dog (given their height).At this height, it's more likely that a dog is a lab.\n",
    "* On the other hand, if I look at dogs that are 35 inches in height (far right of the historgram), I can be confident they are probably a greyhound.\n",
    "* But what about a dog in the middle?\n",
    "    * The graph gives less information here, because the probability of each type of dog is close.\n",
    "    * So, height is a uesful feature, but it's not perfect.\n",
    "    * This is why machine learning typically requires multiple features. Otherwise, you could simply write an if statement instead of working with a classifier.\n",
    "* To figure out what types of features you should use, do a thought experiment.\n",
    "    * Pretend you are the classifier.\n",
    "    * If you are trying to figure out if the dog is a lab or a greyhound what other things would you want to know?\n",
    "    * You might ask about their hair length, or how fast they are, or how much they weigh.\n",
    "    * The number of features you use is more of an are than a science. But, as a rule of thumb think about how many you would need to solve the problem.    \n",
    "    "
   ]
  },
  {
   "cell_type": "markdown",
   "metadata": {},
   "source": [
    "# Example 2"
   ]
  },
  {
   "cell_type": "markdown",
   "metadata": {},
   "source": [
    "Now take a look at another feature like eye color. For this experiement pretend dogs only have to eye colors; blue and brown, and the eye color doesn't depend on the breed of dog. This is what a histogram might look like for this example. The distribution is about 50/50 for most values. So this feature tells us nothing because it doesn't correlate with a type of dog. Including a useless feature like this in your training data can hurt the classifier's accuracy. This is because there's a chance they might appear to be useful, purely by accident. Especially if there is only a small amount of training data. Thefore avoid useless features.\n",
    "\n",
    "![dog eye color](./assets/dogEyeColor.png)\n"
   ]
  },
  {
   "cell_type": "markdown",
   "metadata": {},
   "source": [
    "# Features: Independent"
   ]
  },
  {
   "cell_type": "markdown",
   "metadata": {},
   "source": [
    "Features should also be independent. Independent features give different types of information. Imagine there is already a feature _heigh in inches_ in the dataset. Ask, would it be helpful to add another feature like _height in centimeters_? The answer is no, because it's already correlated with a feature you already have. It's good practice to remove highly correlated features from the training data. This is because a lot of classifiers aren't smart enough to realizers that heigh in inches and centimeters are the same thing. So they might double count how important this feature is. \n"
   ]
  },
  {
   "cell_type": "markdown",
   "metadata": {},
   "source": [
    "# Features: Easy to Understand"
   ]
  },
  {
   "cell_type": "markdown",
   "metadata": {},
   "source": [
    "Features should be easy to understand. Imagine you want to predict how many days it will take to mail a letter between two different cities. The farther apart the cities are, the longer it will take.\n",
    "![city distance](./assets/cityDistance.png)\n",
    "\n",
    "A great feature to use would be the distance between the two cities in miles. \n",
    "![city distance great feature](./assets/cityDistanceGreatFeature.png)\n",
    "\n",
    "A much worse pair of features to use, would be the cities locations given by their latitude and longitude. Here's why. I can look at the distance and make a good guess at how long it will take the letter to arrive, but learning the relationship between latitude, longitude, and time is much harder, and would require many more examples in the training data. \n",
    "![city distance poor feature](./assets/cityDistancePoorFeature.png)\n"
   ]
  },
  {
   "cell_type": "markdown",
   "metadata": {},
   "source": [
    "There are techniques you can use to figure out exactly how useful your features are, and even what combinations of them are best. So, you never have to leave it to chance. More on this in an upcoming module.\n",
    "\n",
    "Ideal features are:\n",
    "* Informative\n",
    "* Independent\n",
    "* Simple"
   ]
  },
  {
   "cell_type": "markdown",
   "metadata": {},
   "source": [
    "# Resource"
   ]
  },
  {
   "cell_type": "markdown",
   "metadata": {},
   "source": [
    "[What Makes a Good Feature? - Machine Learning Recipes #3](https://www.youtube.com/watch?v=N9fDIAflCMY&index=4&list=PLOU2XLYxmsIIuiBfYad6rFYQU_jL2ryal&t=8s)"
   ]
  },
  {
   "cell_type": "code",
   "execution_count": null,
   "metadata": {},
   "outputs": [],
   "source": []
  }
 ],
 "metadata": {
  "kernelspec": {
   "display_name": "Python 3",
   "language": "python",
   "name": "python3"
  },
  "language_info": {
   "codemirror_mode": {
    "name": "ipython",
    "version": 3
   },
   "file_extension": ".py",
   "mimetype": "text/x-python",
   "name": "python",
   "nbconvert_exporter": "python",
   "pygments_lexer": "ipython3",
   "version": "3.7.2"
  },
  "toc": {
   "base_numbering": 1,
   "nav_menu": {},
   "number_sections": true,
   "sideBar": true,
   "skip_h1_title": false,
   "title_cell": "Table of Contents",
   "title_sidebar": "Contents",
   "toc_cell": false,
   "toc_position": {},
   "toc_section_display": true,
   "toc_window_display": false
  }
 },
 "nbformat": 4,
 "nbformat_minor": 2
}
